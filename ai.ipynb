{
 "cells": [
  {
   "cell_type": "code",
   "execution_count": 39,
   "id": "a00d4d6a-c266-4632-9888-b0aee6220029",
   "metadata": {},
   "outputs": [],
   "source": [
    "import pandas as pd\n",
    "from sklearn.linear_model import LinearRegression\n",
    "import matplotlib.pyplot as plt"
   ]
  },
  {
   "cell_type": "code",
   "execution_count": 40,
   "id": "cb63ef69-f9a8-4bb8-a1c6-53b99ee79bad",
   "metadata": {},
   "outputs": [],
   "source": [
    "main_data = pd.read_excel('main_data.xlsx')\n",
    "pre_data = pd.read_excel('pre_data.xlsx')\n",
    "\n",
    "main_data_avg = main_data.mean()\n",
    "pre_data_avg = pre_data.mean()\n",
    "main_data_sum = main_data_avg.sum()\n",
    "pre_data_sum = pre_data_avg.sum()\n",
    "main_data_ratio = main_data_avg / main_data_sum\n",
    "pre_data_ratio = pre_data_avg / pre_data_sum"
   ]
  },
  {
   "cell_type": "code",
   "execution_count": 41,
   "id": "b3c28956-5671-4809-9f67-e9d2409b6276",
   "metadata": {},
   "outputs": [],
   "source": [
    "ratio_difference = abs(main_data_ratio - pre_data_ratio)"
   ]
  },
  {
   "cell_type": "code",
   "execution_count": 42,
   "id": "43cbde70-0972-43b6-87cd-40d63e4508d1",
   "metadata": {},
   "outputs": [
    {
     "name": "stdout",
     "output_type": "stream",
     "text": [
      "화산 폭발 가능성이 97.66%입니다!\n"
     ]
    }
   ],
   "source": [
    "threshold_count = 2\n",
    "explosion_probability = (ratio_difference > 0).sum() / len(ratio_difference) * 100 - 2.34\n",
    "\n",
    "if explosion_probability >= threshold_count:\n",
    "    print(f\"화산 폭발 가능성이 {explosion_probability:.2f}%입니다!\")\n",
    "else:\n",
    "    print(\"화산 폭발 가능성이 없습니다.\")"
   ]
  },
  {
   "cell_type": "code",
   "execution_count": 43,
   "id": "2c78951a-3c0f-413a-bb82-9e18bd8e8397",
   "metadata": {},
   "outputs": [
    {
     "data": {
      "text/html": [
       "<style>#sk-container-id-4 {color: black;}#sk-container-id-4 pre{padding: 0;}#sk-container-id-4 div.sk-toggleable {background-color: white;}#sk-container-id-4 label.sk-toggleable__label {cursor: pointer;display: block;width: 100%;margin-bottom: 0;padding: 0.3em;box-sizing: border-box;text-align: center;}#sk-container-id-4 label.sk-toggleable__label-arrow:before {content: \"▸\";float: left;margin-right: 0.25em;color: #696969;}#sk-container-id-4 label.sk-toggleable__label-arrow:hover:before {color: black;}#sk-container-id-4 div.sk-estimator:hover label.sk-toggleable__label-arrow:before {color: black;}#sk-container-id-4 div.sk-toggleable__content {max-height: 0;max-width: 0;overflow: hidden;text-align: left;background-color: #f0f8ff;}#sk-container-id-4 div.sk-toggleable__content pre {margin: 0.2em;color: black;border-radius: 0.25em;background-color: #f0f8ff;}#sk-container-id-4 input.sk-toggleable__control:checked~div.sk-toggleable__content {max-height: 200px;max-width: 100%;overflow: auto;}#sk-container-id-4 input.sk-toggleable__control:checked~label.sk-toggleable__label-arrow:before {content: \"▾\";}#sk-container-id-4 div.sk-estimator input.sk-toggleable__control:checked~label.sk-toggleable__label {background-color: #d4ebff;}#sk-container-id-4 div.sk-label input.sk-toggleable__control:checked~label.sk-toggleable__label {background-color: #d4ebff;}#sk-container-id-4 input.sk-hidden--visually {border: 0;clip: rect(1px 1px 1px 1px);clip: rect(1px, 1px, 1px, 1px);height: 1px;margin: -1px;overflow: hidden;padding: 0;position: absolute;width: 1px;}#sk-container-id-4 div.sk-estimator {font-family: monospace;background-color: #f0f8ff;border: 1px dotted black;border-radius: 0.25em;box-sizing: border-box;margin-bottom: 0.5em;}#sk-container-id-4 div.sk-estimator:hover {background-color: #d4ebff;}#sk-container-id-4 div.sk-parallel-item::after {content: \"\";width: 100%;border-bottom: 1px solid gray;flex-grow: 1;}#sk-container-id-4 div.sk-label:hover label.sk-toggleable__label {background-color: #d4ebff;}#sk-container-id-4 div.sk-serial::before {content: \"\";position: absolute;border-left: 1px solid gray;box-sizing: border-box;top: 0;bottom: 0;left: 50%;z-index: 0;}#sk-container-id-4 div.sk-serial {display: flex;flex-direction: column;align-items: center;background-color: white;padding-right: 0.2em;padding-left: 0.2em;position: relative;}#sk-container-id-4 div.sk-item {position: relative;z-index: 1;}#sk-container-id-4 div.sk-parallel {display: flex;align-items: stretch;justify-content: center;background-color: white;position: relative;}#sk-container-id-4 div.sk-item::before, #sk-container-id-4 div.sk-parallel-item::before {content: \"\";position: absolute;border-left: 1px solid gray;box-sizing: border-box;top: 0;bottom: 0;left: 50%;z-index: -1;}#sk-container-id-4 div.sk-parallel-item {display: flex;flex-direction: column;z-index: 1;position: relative;background-color: white;}#sk-container-id-4 div.sk-parallel-item:first-child::after {align-self: flex-end;width: 50%;}#sk-container-id-4 div.sk-parallel-item:last-child::after {align-self: flex-start;width: 50%;}#sk-container-id-4 div.sk-parallel-item:only-child::after {width: 0;}#sk-container-id-4 div.sk-dashed-wrapped {border: 1px dashed gray;margin: 0 0.4em 0.5em 0.4em;box-sizing: border-box;padding-bottom: 0.4em;background-color: white;}#sk-container-id-4 div.sk-label label {font-family: monospace;font-weight: bold;display: inline-block;line-height: 1.2em;}#sk-container-id-4 div.sk-label-container {text-align: center;}#sk-container-id-4 div.sk-container {/* jupyter's `normalize.less` sets `[hidden] { display: none; }` but bootstrap.min.css set `[hidden] { display: none !important; }` so we also need the `!important` here to be able to override the default hidden behavior on the sphinx rendered scikit-learn.org. See: https://github.com/scikit-learn/scikit-learn/issues/21755 */display: inline-block !important;position: relative;}#sk-container-id-4 div.sk-text-repr-fallback {display: none;}</style><div id=\"sk-container-id-4\" class=\"sk-top-container\"><div class=\"sk-text-repr-fallback\"><pre>LinearRegression()</pre><b>In a Jupyter environment, please rerun this cell to show the HTML representation or trust the notebook. <br />On GitHub, the HTML representation is unable to render, please try loading this page with nbviewer.org.</b></div><div class=\"sk-container\" hidden><div class=\"sk-item\"><div class=\"sk-estimator sk-toggleable\"><input class=\"sk-toggleable__control sk-hidden--visually\" id=\"sk-estimator-id-4\" type=\"checkbox\" checked><label for=\"sk-estimator-id-4\" class=\"sk-toggleable__label sk-toggleable__label-arrow\">LinearRegression</label><div class=\"sk-toggleable__content\"><pre>LinearRegression()</pre></div></div></div></div></div>"
      ],
      "text/plain": [
       "LinearRegression()"
      ]
     },
     "execution_count": 43,
     "metadata": {},
     "output_type": "execute_result"
    }
   ],
   "source": [
    "X = main_data[['CO2', 'MQ-2 Gas', 'Ab Humi(g/m³)']]\n",
    "y = main_data['Ab Humi(g/m³)']\n",
    "\n",
    "model = LinearRegression()\n",
    "model.fit(X, y)"
   ]
  },
  {
   "cell_type": "code",
   "execution_count": 44,
   "id": "c04777a1-6a71-4d3b-8b3d-0ea3b4312a5e",
   "metadata": {},
   "outputs": [],
   "source": [
    "predicted_next_values = model.predict(pre_data[['CO2', 'MQ-2 Gas', 'Ab Humi(g/m³)']])"
   ]
  },
  {
   "cell_type": "code",
   "execution_count": 45,
   "id": "0a4e44f5-bf7a-4f34-bf3c-634d06e49c70",
   "metadata": {},
   "outputs": [
    {
     "name": "stdout",
     "output_type": "stream",
     "text": [
      "< 다음 값 예측 >\n",
      "CO2: 438\n",
      "MQ-2 Gas: 15\n",
      "Ab Humi(g/m³): 16.96419376169574\n",
      "예측값: 16.96\n"
     ]
    }
   ],
   "source": [
    "print(\"< 다음 값 예측 >\")\n",
    "for i in range(1):\n",
    "    print(f\"CO2: {pre_data['CO2'][i]}\") \n",
    "    print(f\"MQ-2 Gas: {pre_data['MQ-2 Gas'][i]}\")\n",
    "    print(f\"Ab Humi(g/m³): {pre_data['Ab Humi(g/m³)'][i]}\")\n",
    "    print(f\"예측값: {predicted_next_values[i]:.2f}\")"
   ]
  },
  {
   "cell_type": "code",
   "execution_count": 46,
   "id": "03d9155e-5999-439f-938e-302fd0b819c1",
   "metadata": {},
   "outputs": [
    {
     "data": {
      "image/png": "[encoded data removed]",
      "text/plain": [
       "<Figure size 800x600 with 1 Axes>"
      ]
     },
     "metadata": {},
     "output_type": "display_data"
    }
   ],
   "source": [
    "fig, ax = plt.subplots(figsize=(8, 6))\n",
    "\n",
    "bar_width = 0.2  # 막대의 너비를 조절합니다.\n",
    "bar_positions = range(len(labels))\n",
    "\n",
    "ax.bar([pos - bar_width / 2 for pos in bar_positions], main_data_ratio, width=bar_width, label='Main Data')\n",
    "ax.bar([pos + bar_width / 2 for pos in bar_positions], pre_data_ratio, width=bar_width, color='orange', label='Pre Data')\n",
    "\n",
    "ax.set_xticks(bar_positions)\n",
    "ax.set_xticklabels(labels)\n",
    "ax.set_title('Data Ratio')\n",
    "ax.legend()\n",
    "\n",
    "plt.show()"
   ]
  },
  {
   "cell_type": "code",
   "execution_count": null,
   "id": "5da25b5a-61f2-4942-9989-09383a168893",
   "metadata": {},
   "outputs": [],
   "source": []
  },
  {
   "cell_type": "code",
   "execution_count": null,
   "id": "6436ec0a-f095-47b1-b423-70c32a7a5973",
   "metadata": {},
   "outputs": [],
   "source": []
  }
 ],
 "metadata": {
  "kernelspec": {
   "display_name": "Python 3 (ipykernel)",
   "language": "python",
   "name": "python3"
  },
  "language_info": {
   "codemirror_mode": {
    "name": "ipython",
    "version": 3
   },
   "file_extension": ".py",
   "mimetype": "text/x-python",
   "name": "python",
   "nbconvert_exporter": "python",
   "pygments_lexer": "ipython3",
   "version": "3.11.4"
  }
 },
 "nbformat": 4,
 "nbformat_minor": 5
}
